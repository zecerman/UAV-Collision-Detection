import pandas as pd
import numpy as np
import plotly.graph_objects as go



df = pd.read_csv('vrpn_client_node-holybro-pose.csv')


max(df["pose.position.z"])


df_with_groups = df.copy()
df_with_groups['group_id'] = np.floor(np.arange(len(df_with_groups)) / 5).astype(int)


df_with_groups_grouped = df_with_groups.groupby('group_id').agg('first').reset_index(drop=True)
df_with_groups_grouped.head(5)


df = df.sort_values('Time')

# Create the figure
fig = go.Figure()

# Add scatter points
fig.add_trace(go.Scatter3d(
    x=df['pose.position.x'],
    y=df['pose.position.y'],
    z=df['pose.position.z'],
    mode='markers+lines',  # Connect points in time order
    marker=dict(size=1, color=df['Time'].astype(int), colorscale='Viridis'),
    line=dict(color='red', width=1),
    name='LiDAR Path'
))
fig.update_layout(
    scene=dict(
        aspectratio=dict(x=0.5, y=0.5, z=2)
    ),
    autosize=False,
    width=800,
    height=600
)

fig.show()


max(df["pose.orientation.z"])



