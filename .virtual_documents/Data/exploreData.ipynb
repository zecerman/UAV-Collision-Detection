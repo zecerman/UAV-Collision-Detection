


# imports
import pandas as pd
import numpy as np
import matplotlib.pyplot as plt
from mpl_toolkits.mplot3d import Axes3D
import re
from scipy.spatial.transform import Rotation as R





df_ouster = pd.read_csv('subset_ouster_points_01.csv')
df_avia = pd.read_csv('subset_avia_lidar_01.csv')
df_mid = pd.read_csv('subset_mid360_livox_lidar_01.csv')
df_pose = pd.read_csv('subset_vrpn_pose_01.csv')
print('ouster_points columns', df_ouster.columns, '\n', 'avia_lidar columns', df_avia.columns, '\n', 
      'mid360_lidar columns', df_mid.columns, '\n', 'vrpn_pose columns', df_pose.columns, '\n')


print(df_avia.head())
print(df_mid.head())





#### used this graph for the before trajectory
print(df_pose.head())

# 3D scatter/line of trajectory
fig = plt.figure()
ax = fig.add_subplot(111, projection = '3d')
ax.plot(df_pose['pose.position.x'], df_pose['pose.position.y'], df_pose['pose.position.z'])
plt.show()


df_pose["time"] = df_pose["header.stamp.secs"] + df_pose["header.stamp.nsecs"] * 1e-9
df_pose = df_pose.sort_values("time")

plt.figure()
plt.plot(df_pose["time"], df_pose["pose.position.x"], label="x")
plt.plot(df_pose["time"], df_pose["pose.position.y"], label="y")
plt.plot(df_pose["time"], df_pose["pose.position.z"], label="z")
plt.legend()
plt.show()


df_pose["z_smooth"] = df_pose["pose.position.z"].rolling(10, center=True).mean()


fig = plt.figure()
ax = fig.add_subplot(111, projection="3d")
plt.plot(df_pose["time"], df_pose["pose.position.z"].diff())
plt.show()


print(df_pose[["pose.position.x", "pose.position.y", "pose.position.z"]].head(20))


plt.plot(df_pose["time"], df_pose["pose.position.z"])
plt.xlabel("time")
plt.ylabel("z position")
plt.show()


# Create a single timestamp in floating seconds
df_pose["timestamp"] = df_pose["header.stamp.secs"] + df_pose["header.stamp.nsecs"] * 1e-9

# Sort by this new timestamp
df_pose = df_pose.sort_values(by="timestamp")

# Now plot
fig = plt.figure()
ax = fig.add_subplot(111, projection="3d")
ax.plot(
    df_pose["pose.position.x"],
    df_pose["pose.position.y"],
    df_pose["pose.position.z"]
)
plt.show()





print(df_ouster.head())


print(df_mid.head())


# Parse LiDAR points string
def parse_points(cell):
    # Extract (x,y,z) tuples from a string like 'x: 1.23;y: 4.56;z: 7.89'
    matches = re.findall(r'x: ([^;]+);y: ([^;]+);z: ([^;]+)', cell)
    return [(float(x), float(y), float(z)) for x, y, z in matches]

# Parse first LiDAR frame (you can loop for more)
lidar_points = parse_points(df_avia['points'].iloc[0])
xs, ys, zs = zip(*lidar_points)

# Extract UAV trajectory (pose)
px = df_pose['pose.position.x'].values
py = df_pose['pose.position.y'].values
pz = df_pose['pose.position.z'].values

# Plotting
fig = plt.figure(figsize=(12, 6))

# LiDAR point cloud
ax1 = fig.add_subplot(121, projection = '3d')
ax1.scatter(xs, ys, zs, s=1, c = 'purple')
ax1.set_title('LiDAR Point Cloud (Avia)')
ax1.set_xlabel('X')
ax1.set_ylabel('Y')
ax1.set_zlabel('Z')

# UAV trajectory
ax2 = fig.add_subplot(122, projection = '3d')
ax2.plot(px, py, pz, c = 'blue')
ax2.set_title('UAV Trajectory (VRPN Pose)')
ax2.set_xlabel('X')
ax2.set_ylabel('Y')
ax2.set_zlabel('Z')

plt.tight_layout()
plt.show()


# Collect multiple LiDAR frames
N_FRAMES = 20  # change this for more or fewer frames
all_points = []

for i in range(min(N_FRAMES, len(df_avia))):
    pts = parse_points(df_avia['points'].iloc[i])
    all_points.extend(pts)

xs, ys, zs = zip(*all_points)

# UAV trajectory
px = df_pose['pose.position.x'].values
py = df_pose['pose.position.y'].values
pz = df_pose['pose.position.z'].values

# plot
fig = plt.figure(figsize=(12, 6))

# LiDAR accumulated cloud
ax1 = fig.add_subplot(121, projection = '3d')
ax1.scatter(xs, ys, zs, s = 1, c = 'purple')
ax1.set_title(f'Accumulated LiDAR Point Cloud ({N_FRAMES} frames)')
ax1.set_xlabel('X')
ax1.set_ylabel('Y')
ax1.set_zlabel('Z')

# UAV trajectory
ax2 = fig.add_subplot(122, projection = '3d')
ax2.plot(px, py, pz, c = 'blue')
ax2.set_title('UAV Trajectory (VRPN Pose)')
ax2.set_xlabel('X')
ax2.set_ylabel('Y')
ax2.set_zlabel('Z')

plt.tight_layout()
plt.show()


# sync LiDAR frames with VRPN pose - avia
# function to find nearest pose by time
def find_nearest_pose(time, pose_df):
    idx = (pose_df['Time'] - time).abs().idxmin()
    return pose_df.loc[idx]

# function to parse one frame of points
def parse_points(points_str):
    pts = []
    for entry in points_str.strip('[]').split(','):
        parts = dict(item.split(':') for item in entry.split(';') if ':' in item)
        if 'x' in parts and 'y' in parts and 'z' in parts:
            pts.append([float(parts['x']), float(parts['y']), float(parts['z'])])
    return np.array(pts)

# transform first LiDAR frame
row = df_avia.iloc[0]
time = row['Time']

# get closest pose
pose_row = find_nearest_pose(time, df_pose)

# transform arrays
pos = np.array([pose_row['pose.position.x'], 
                pose_row['pose.position.y'], 
                pose_row['pose.position.z']])
quat = np.array([pose_row['pose.orientation.x'],
                 pose_row['pose.orientation.y'],
                 pose_row['pose.orientation.z'],
                 pose_row['pose.orientation.w']])

R_mat = R.from_quat(quat).as_matrix() # convert quaternion to a 3x3 matrix
T = np.eye(4)
T[:3,:3] = R_mat
T[:3, 3] = pos

# apply to points
pts_sensor = parse_points(row['points'])
pts_world = (T @ np.hstack([pts_sensor, np.ones((pts_sensor.shape[0],1))]).T).T[:,:3] # stacks arrays horizontally

print(pts_world[:5])  # first 5 transformed points


# sync LiDAR frames with VRPN pose - mid 360
# Find nearest VRPN pose to LiDAR timestamp
def find_nearest_pose(time, pose_df):
    idx = (pose_df['Time'] - time).abs().idxmin()
    return pose_df.loc[idx]

# Parse "points" field into numpy array of shape (N,3)
def parse_points(points_str):
    pts = []
    for entry in points_str.strip('[]').split(',')
        parts = dict(item.split(':') for item in entry.split(';') if ':' in item)
        if 'x' in parts and 'y' in parts and 'z' in parts:
            pts.append([float(parts['x']), float(parts['y']), float(parts['z'])])
    return np.array(pts)

# Build 4x4 transformation matrix from VRPN pose row
def build_transform(pose_row):
    pos = np.array([pose_row['pose.position.x'], 
                    pose_row['pose.position.y'], 
                    pose_row['pose.position.z']])
    quat = np.array([pose_row['pose.orientation.x'],
                     pose_row['pose.orientation.y'],
                     pose_row['pose.orientation.z'],
                     pose_row['pose.orientation.w']])
    R_mat = R.from_quat(quat).as_matrix()
    T = np.eye(4)
    T[:3,:3] = R_mat
    T[:3, 3] = pos
    return T

# Apply transformation to points
def transform_points(pts, T):
    pts_h = np.hstack([pts, np.ones((pts.shape[0],1))])   # homogeneous
    return (T @ pts_h.T).T[:,:3]

# Process LiDAR frames
all_world_points = []

for i, row in df_mid.head(50).iterrows():   # first 50 frames as example
    # Get LiDAR time + nearest pose
    time = row['Time']
    pose_row = find_nearest_pose(time, df_pose)
    
    # Build transform
    T = build_transform(pose_row)
    
    # Parse and transform points
    pts_sensor = parse_points(row['points'])
    if pts_sensor.size > 0:
        pts_world = transform_points(pts_sensor, T)
        all_world_points.append(pts_world)

# Stack into one big array
all_world_points = np.vstack(all_world_points)

print('Total transformed points:', all_world_points.shape)
print(all_world_points[:5])   # preview first 5 points in world coords


import open3d as o3d

pcd = o3d.geometry.PointCloud()
pcd.points = o3d.utility.Vector3dVector(all_world_points)
o3d.visualization.draw_geometries([pcd])





# Parse LiDAR 'points' string
df_avia_02 = pd.read_csv('subset_avia_livox_lidar_02.csv')
df_pose_02 = pd.read_csv('subset_vrpn_client_node_02.csv')

def parse_points(cell):
    # Extract (x,y,z) tuples from a string like 'x: 1.23;y: 4.56;z: 7.89' #
    matches = re.findall(r'x: ([^;]+);y: ([^;]+);z: ([^;]+)', cell)
    return [(float(x), float(y), float(z)) for x, y, z in matches]

# Parse first LiDAR frame (you can loop for more)
lidar_points = parse_points(df_avia_02['points'].iloc[0])
xs, ys, zs = zip(*lidar_points)

# Extract UAV trajectory (pose)
px = df_pose_02['pose.position.x'].values
py = df_pose_02['pose.position.y'].values
pz = df_pose_02['pose.position.z'].values

# Plotting
fig = plt.figure(figsize=(12, 6))

# LiDAR point cloud
ax1 = fig.add_subplot(121, projection = '3d')
ax1.scatter(xs, ys, zs, s=1, c = 'purple')
ax1.set_title('LiDAR Point Cloud (Avia)')
ax1.set_xlabel('X')
ax1.set_ylabel('Y')
ax1.set_zlabel('Z')

# UAV trajectory
ax2 = fig.add_subplot(122, projection = '3d')
ax2.plot(px, py, pz, c = 'blue')
ax2.set_title('UAV Trajectory (VRPN Pose)')
ax2.set_xlabel('X')
ax2.set_ylabel('Y')
ax2.set_zlabel('Z')

plt.tight_layout()
plt.show()


# continue with holybro02
N_FRAMES = 100 # change this for more or fewer frames
all_points = []

for i in range(min(N_FRAMES, len(df_avia_02))):
    pts = parse_points(df_avia_02['points'].iloc[i])
    all_points.extend(pts)

xs, ys, zs = zip(*all_points)

# UAV trajectory
px = df_pose_02['pose.position.x'].values
py = df_pose_02['pose.position.y'].values
pz = df_pose_02['pose.position.z'].values

fig = plt.figure(figsize = (12, 6))

# LiDAR accumulated cloud
ax1 = fig.add_subplot(121, projection = '3d')
ax1.scatter(xs, ys, zs, s = 1, c = 'purple')
ax1.set_title(f'Accumulated LiDAR Point Cloud ({N_FRAMES} frames)')
ax1.set_xlabel('X')
ax1.set_ylabel('Y')
ax1.set_zlabel('Z')

# UAV trajectory
ax2 = fig.add_subplot(122, projection = '3d')
ax2.plot(px, py, pz, c = 'blue')
ax2.set_title('UAV Trajectory (VRPN Pose)')
ax2.set_xlabel('X')
ax2.set_ylabel('Y')
ax2.set_zlabel('Z')

plt.tight_layout()
plt.show()





# Parse LiDAR 'points' string
df_avia_04 = pd.read_csv('subset_avia_livox_lidar_04.csv')
df_pose_04 = pd.read_csv('subset_vrpn_client_node_04.csv')

def parse_points(cell):
    # Extract (x,y,z) tuples from a string like 'x: 1.23;y: 4.56;z: 7.89' #
    matches = re.findall(r'x: ([^;]+);y: ([^;]+);z: ([^;]+)', cell)
    return [(float(x), float(y), float(z)) for x, y, z in matches]

# Parse first LiDAR frame (you can loop for more)
lidar_points = parse_points(df_avia_04['points'].iloc[0])
xs, ys, zs = zip(*lidar_points)

# Extract UAV trajectory (pose)
px = df_pose_04['pose.position.x'].values
py = df_pose_04['pose.position.y'].values
pz = df_pose_04['pose.position.z'].values

# Plotting
fig = plt.figure(figsize = (12, 6))

# LiDAR point cloud
ax1 = fig.add_subplot(121, projection = '3d')
ax1.scatter(xs, ys, zs, s = 1, c = 'purple')
ax1.set_title('LiDAR Point Cloud (Avia)')
ax1.set_xlabel('X')
ax1.set_ylabel('Y')
ax1.set_zlabel('Z')

# UAV trajectory
ax2 = fig.add_subplot(122, projection = '3d')
ax2.plot(px, py, pz, c = 'blue')
ax2.set_title('UAV Trajectory (VRPN Pose)')
ax2.set_xlabel('X')
ax2.set_ylabel('Y')
ax2.set_zlabel('Z')

plt.tight_layout()
plt.show()


# continue with holybro04
N_FRAMES = 20 # change this for more or fewer frames
all_points = []

for i in range(min(N_FRAMES, len(df_avia_04))):
    pts = parse_points(df_avia_04['points'].iloc[i])
    all_points.extend(pts)

xs, ys, zs = zip(*all_points)

# UAV trajectory
px = df_pose_04['pose.position.x'].values
py = df_pose_04['pose.position.y'].values
pz = df_pose_04['pose.position.z'].values

fig = plt.figure(figsize=(12, 6))

# LiDAR accumulated cloud
ax1 = fig.add_subplot(121, projection = '3d')
ax1.scatter(xs, ys, zs, s = 1, c = 'purple')
ax1.set_title(f'Accumulated LiDAR Point Cloud ({N_FRAMES} frames)')
ax1.set_xlabel('X')
ax1.set_ylabel('Y')
ax1.set_zlabel('Z')

# UAV trajectory
ax2 = fig.add_subplot(122, projection = '3d')
ax2.plot(px, py, pz, c = 'blue')
ax2.set_title('UAV Trajectory (VRPN Pose)')
ax2.set_xlabel('X')
ax2.set_ylabel('Y'
ax2.set_zlabel('Z')

plt.tight_layout()
plt.show()



