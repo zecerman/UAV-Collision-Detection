





import pandas as pd
import numpy as np
import plotly.graph_objects as go
import matplotlib.pyplot as plt





# Trajectory data - vrpn_clien_pose
traj_df = pd.read_csv('vrpn_client_node-holybro-pose.csv')
traj_df.head()





traj_df.shape


len(np.unique(traj_df.iloc[: ,1]))


traj_df.columns





list = []
for i in traj_df.columns:
    list.append([i, type(traj_df[i][0]), np.sum(traj_df[i].isnull()), len(np.unique(traj_df[i])), f"({min(traj_df[i])}, {max(traj_df[i])})"])

info_df = pd.DataFrame(list, columns=["Column", "Type", "Missing_val_count", "Unique_Values", "Range"]).set_index("Column")
info_df["Units"] = ["Seconds", "Count", "Seconds", "Nonoseconds", "Name of Coordinate Frame", "meters", "meters", "meters", "X Vector Component", "Y Vector Component","Z Vector Component", "Cosine of 1/2 Rotation angle"]
info_df





traj_df = traj_df.sort_values('Time')

# Create the figure
fig = go.Figure()

# Add scatter points
fig.add_trace(go.Scatter3d(
    x=traj_df['pose.position.x'],
    y=traj_df['pose.position.y'],
    z=traj_df['pose.position.z'],
    mode='markers+lines',  # Connect points in time order
    marker=dict(size=1, color=traj_df['Time'].astype(int), colorscale='Viridis'),
    line=dict(color='red', width=1),
    name='LiDAR Path'
))
fig.update_layout(
    scene=dict(
        aspectratio=dict(x=0.5, y=0.5, z=2)
    )
)

fig.show()








plt.scatter(x=traj_df['pose.position.x'], y=traj_df['pose.position.z'], s = 1)
plt.xlim(2.5, 4)
plt.ylim(0, 4)
plt.xlabel("pose.position.x")
plt.ylabel("pose.position.z")
plt.title("Trajectory Plot: x vs z")
plt.show()


plt.scatter(x=traj_df['pose.position.y'], y=traj_df['pose.position.z'], s = 1)
plt.xlim(2.5, 4)
plt.ylim(0, 4)
plt.xlabel("pose.position.y")
plt.ylabel("pose.position.z")
plt.title("Trajectory Plot: y vs z")
plt.show()












