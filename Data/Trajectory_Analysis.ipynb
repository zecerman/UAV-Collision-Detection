{
 "cells": [
  {
   "cell_type": "markdown",
   "id": "0fae880f-66e5-4eb8-b853-e51552b33d2b",
   "metadata": {},
   "source": [
    "# UAV Vollision Detection Project Setup"
   ]
  },
  {
   "cell_type": "markdown",
   "id": "2473c5f0-4ca7-4938-9a01-573fa0091c01",
   "metadata": {},
   "source": [
    "### Group members: Felicia Huffman, Olivia Gette, Samuel Weiss, Jacob Brendemuehl"
   ]
  },
  {
   "cell_type": "code",
   "execution_count": 1,
   "id": "ed166e42-cd87-4053-8b7f-0a5edd11f503",
   "metadata": {},
   "outputs": [],
   "source": [
    "import pandas as pd\n",
    "import numpy as np\n",
    "import plotly.graph_objects as go\n",
    "import matplotlib.pyplot as plt"
   ]
  },
  {
   "cell_type": "markdown",
   "id": "014a72df-cbfd-431d-82d5-5a1cd708b291",
   "metadata": {},
   "source": [
    "## Loading Data"
   ]
  },
  {
   "cell_type": "code",
   "execution_count": 2,
   "id": "3b1f85c2-e759-47fa-a3ad-bde2e5cca76a",
   "metadata": {},
   "outputs": [
    {
     "data": {
      "text/html": [
       "<div>\n",
       "<style scoped>\n",
       "    .dataframe tbody tr th:only-of-type {\n",
       "        vertical-align: middle;\n",
       "    }\n",
       "\n",
       "    .dataframe tbody tr th {\n",
       "        vertical-align: top;\n",
       "    }\n",
       "\n",
       "    .dataframe thead th {\n",
       "        text-align: right;\n",
       "    }\n",
       "</style>\n",
       "<table border=\"1\" class=\"dataframe\">\n",
       "  <thead>\n",
       "    <tr style=\"text-align: right;\">\n",
       "      <th></th>\n",
       "      <th>Time</th>\n",
       "      <th>header.seq</th>\n",
       "      <th>header.stamp.secs</th>\n",
       "      <th>header.stamp.nsecs</th>\n",
       "      <th>header.frame_id</th>\n",
       "      <th>pose.position.x</th>\n",
       "      <th>pose.position.y</th>\n",
       "      <th>pose.position.z</th>\n",
       "      <th>pose.orientation.x</th>\n",
       "      <th>pose.orientation.y</th>\n",
       "      <th>pose.orientation.z</th>\n",
       "      <th>pose.orientation.w</th>\n",
       "    </tr>\n",
       "  </thead>\n",
       "  <tbody>\n",
       "    <tr>\n",
       "      <th>0</th>\n",
       "      <td>1.690899e+09</td>\n",
       "      <td>16978</td>\n",
       "      <td>1690899086</td>\n",
       "      <td>439488080</td>\n",
       "      <td>world</td>\n",
       "      <td>3.574004</td>\n",
       "      <td>3.724356</td>\n",
       "      <td>0.285386</td>\n",
       "      <td>-0.002749</td>\n",
       "      <td>-0.022144</td>\n",
       "      <td>0.022727</td>\n",
       "      <td>-0.999493</td>\n",
       "    </tr>\n",
       "    <tr>\n",
       "      <th>1</th>\n",
       "      <td>1.690899e+09</td>\n",
       "      <td>16979</td>\n",
       "      <td>1690899086</td>\n",
       "      <td>439500682</td>\n",
       "      <td>world</td>\n",
       "      <td>3.573789</td>\n",
       "      <td>3.724420</td>\n",
       "      <td>0.285435</td>\n",
       "      <td>-0.001512</td>\n",
       "      <td>-0.018856</td>\n",
       "      <td>0.022246</td>\n",
       "      <td>-0.999574</td>\n",
       "    </tr>\n",
       "    <tr>\n",
       "      <th>2</th>\n",
       "      <td>1.690899e+09</td>\n",
       "      <td>16980</td>\n",
       "      <td>1690899086</td>\n",
       "      <td>439518721</td>\n",
       "      <td>world</td>\n",
       "      <td>3.573816</td>\n",
       "      <td>3.724433</td>\n",
       "      <td>0.285434</td>\n",
       "      <td>-0.001561</td>\n",
       "      <td>-0.019365</td>\n",
       "      <td>0.022296</td>\n",
       "      <td>-0.999563</td>\n",
       "    </tr>\n",
       "    <tr>\n",
       "      <th>3</th>\n",
       "      <td>1.690899e+09</td>\n",
       "      <td>16984</td>\n",
       "      <td>1690899086</td>\n",
       "      <td>439535135</td>\n",
       "      <td>world</td>\n",
       "      <td>3.573872</td>\n",
       "      <td>3.724471</td>\n",
       "      <td>0.285454</td>\n",
       "      <td>-0.001508</td>\n",
       "      <td>-0.019579</td>\n",
       "      <td>0.022436</td>\n",
       "      <td>-0.999556</td>\n",
       "    </tr>\n",
       "    <tr>\n",
       "      <th>4</th>\n",
       "      <td>1.690899e+09</td>\n",
       "      <td>16985</td>\n",
       "      <td>1690899086</td>\n",
       "      <td>449491345</td>\n",
       "      <td>world</td>\n",
       "      <td>3.573890</td>\n",
       "      <td>3.724500</td>\n",
       "      <td>0.285452</td>\n",
       "      <td>-0.001570</td>\n",
       "      <td>-0.019777</td>\n",
       "      <td>0.022308</td>\n",
       "      <td>-0.999554</td>\n",
       "    </tr>\n",
       "  </tbody>\n",
       "</table>\n",
       "</div>"
      ],
      "text/plain": [
       "           Time  header.seq  header.stamp.secs  header.stamp.nsecs   \n",
       "0  1.690899e+09       16978         1690899086           439488080  \\\n",
       "1  1.690899e+09       16979         1690899086           439500682   \n",
       "2  1.690899e+09       16980         1690899086           439518721   \n",
       "3  1.690899e+09       16984         1690899086           439535135   \n",
       "4  1.690899e+09       16985         1690899086           449491345   \n",
       "\n",
       "  header.frame_id  pose.position.x  pose.position.y  pose.position.z   \n",
       "0           world         3.574004         3.724356         0.285386  \\\n",
       "1           world         3.573789         3.724420         0.285435   \n",
       "2           world         3.573816         3.724433         0.285434   \n",
       "3           world         3.573872         3.724471         0.285454   \n",
       "4           world         3.573890         3.724500         0.285452   \n",
       "\n",
       "   pose.orientation.x  pose.orientation.y  pose.orientation.z   \n",
       "0           -0.002749           -0.022144            0.022727  \\\n",
       "1           -0.001512           -0.018856            0.022246   \n",
       "2           -0.001561           -0.019365            0.022296   \n",
       "3           -0.001508           -0.019579            0.022436   \n",
       "4           -0.001570           -0.019777            0.022308   \n",
       "\n",
       "   pose.orientation.w  \n",
       "0           -0.999493  \n",
       "1           -0.999574  \n",
       "2           -0.999563  \n",
       "3           -0.999556  \n",
       "4           -0.999554  "
      ]
     },
     "execution_count": 2,
     "metadata": {},
     "output_type": "execute_result"
    }
   ],
   "source": [
    "# Trajectory data - vrpn_clien_pose\n",
    "traj_df = pd.read_csv('vrpn_client_node-holybro-pose.csv')\n",
    "traj_df.head()"
   ]
  },
  {
   "cell_type": "markdown",
   "id": "797c408f-0a5d-4c86-9f0f-f6f3098492a3",
   "metadata": {},
   "source": [
    "## Data Exploration"
   ]
  },
  {
   "cell_type": "code",
   "execution_count": 3,
   "id": "1f979538-1ec7-4dae-b616-8a6061f32eba",
   "metadata": {},
   "outputs": [
    {
     "data": {
      "text/plain": [
       "(3032, 12)"
      ]
     },
     "execution_count": 3,
     "metadata": {},
     "output_type": "execute_result"
    }
   ],
   "source": [
    "traj_df.shape"
   ]
  },
  {
   "cell_type": "code",
   "execution_count": 4,
   "id": "2e09da68-61c1-44c6-8dc6-0e485453475c",
   "metadata": {},
   "outputs": [
    {
     "data": {
      "text/plain": [
       "3032"
      ]
     },
     "execution_count": 4,
     "metadata": {},
     "output_type": "execute_result"
    }
   ],
   "source": [
    "len(np.unique(traj_df.iloc[: ,1]))"
   ]
  },
  {
   "cell_type": "code",
   "execution_count": 5,
   "id": "1d67c86c-2c32-4a11-b1dc-b97323025fa4",
   "metadata": {
    "scrolled": true
   },
   "outputs": [
    {
     "data": {
      "text/plain": [
       "Index(['Time', 'header.seq', 'header.stamp.secs', 'header.stamp.nsecs',\n",
       "       'header.frame_id', 'pose.position.x', 'pose.position.y',\n",
       "       'pose.position.z', 'pose.orientation.x', 'pose.orientation.y',\n",
       "       'pose.orientation.z', 'pose.orientation.w'],\n",
       "      dtype='object')"
      ]
     },
     "execution_count": 5,
     "metadata": {},
     "output_type": "execute_result"
    }
   ],
   "source": [
    "traj_df.columns"
   ]
  },
  {
   "cell_type": "markdown",
   "id": "d454a1a7-19b4-4f76-acf1-7160b6408e4f",
   "metadata": {},
   "source": [
    "#### Exploring Columns types, units, ensuring valid ranges, Missing value check, number of unique values"
   ]
  },
  {
   "cell_type": "code",
   "execution_count": 6,
   "id": "1c1594ad-3639-4813-a8bb-ee86361962fd",
   "metadata": {},
   "outputs": [
    {
     "data": {
      "text/html": [
       "<div>\n",
       "<style scoped>\n",
       "    .dataframe tbody tr th:only-of-type {\n",
       "        vertical-align: middle;\n",
       "    }\n",
       "\n",
       "    .dataframe tbody tr th {\n",
       "        vertical-align: top;\n",
       "    }\n",
       "\n",
       "    .dataframe thead th {\n",
       "        text-align: right;\n",
       "    }\n",
       "</style>\n",
       "<table border=\"1\" class=\"dataframe\">\n",
       "  <thead>\n",
       "    <tr style=\"text-align: right;\">\n",
       "      <th></th>\n",
       "      <th>Type</th>\n",
       "      <th>Missing_val_count</th>\n",
       "      <th>Unique_Values</th>\n",
       "      <th>Range</th>\n",
       "      <th>Units</th>\n",
       "    </tr>\n",
       "    <tr>\n",
       "      <th>Column</th>\n",
       "      <th></th>\n",
       "      <th></th>\n",
       "      <th></th>\n",
       "      <th></th>\n",
       "      <th></th>\n",
       "    </tr>\n",
       "  </thead>\n",
       "  <tbody>\n",
       "    <tr>\n",
       "      <th>Time</th>\n",
       "      <td>&lt;class 'numpy.float64'&gt;</td>\n",
       "      <td>0</td>\n",
       "      <td>3032</td>\n",
       "      <td>(1690899086.439581, 1690899118.0395534)</td>\n",
       "      <td>Seconds</td>\n",
       "    </tr>\n",
       "    <tr>\n",
       "      <th>header.seq</th>\n",
       "      <td>&lt;class 'numpy.int64'&gt;</td>\n",
       "      <td>0</td>\n",
       "      <td>3032</td>\n",
       "      <td>(16978, 20144)</td>\n",
       "      <td>Count</td>\n",
       "    </tr>\n",
       "    <tr>\n",
       "      <th>header.stamp.secs</th>\n",
       "      <td>&lt;class 'numpy.int64'&gt;</td>\n",
       "      <td>0</td>\n",
       "      <td>33</td>\n",
       "      <td>(1690899086, 1690899118)</td>\n",
       "      <td>Seconds</td>\n",
       "    </tr>\n",
       "    <tr>\n",
       "      <th>header.stamp.nsecs</th>\n",
       "      <td>&lt;class 'numpy.int64'&gt;</td>\n",
       "      <td>0</td>\n",
       "      <td>3031</td>\n",
       "      <td>(9456458, 999614419)</td>\n",
       "      <td>Nonoseconds</td>\n",
       "    </tr>\n",
       "    <tr>\n",
       "      <th>header.frame_id</th>\n",
       "      <td>&lt;class 'str'&gt;</td>\n",
       "      <td>0</td>\n",
       "      <td>1</td>\n",
       "      <td>(world, world)</td>\n",
       "      <td>Name of Coordinate Frame</td>\n",
       "    </tr>\n",
       "    <tr>\n",
       "      <th>pose.position.x</th>\n",
       "      <td>&lt;class 'numpy.float64'&gt;</td>\n",
       "      <td>0</td>\n",
       "      <td>3024</td>\n",
       "      <td>(3.31677794456482, 3.6165285110473633)</td>\n",
       "      <td>meters</td>\n",
       "    </tr>\n",
       "    <tr>\n",
       "      <th>pose.position.y</th>\n",
       "      <td>&lt;class 'numpy.float64'&gt;</td>\n",
       "      <td>0</td>\n",
       "      <td>2998</td>\n",
       "      <td>(3.654858112335205, 3.77560043334961)</td>\n",
       "      <td>meters</td>\n",
       "    </tr>\n",
       "    <tr>\n",
       "      <th>pose.position.z</th>\n",
       "      <td>&lt;class 'numpy.float64'&gt;</td>\n",
       "      <td>0</td>\n",
       "      <td>3031</td>\n",
       "      <td>(0.2850619852542877, 3.134616613388061)</td>\n",
       "      <td>meters</td>\n",
       "    </tr>\n",
       "    <tr>\n",
       "      <th>pose.orientation.x</th>\n",
       "      <td>&lt;class 'numpy.float64'&gt;</td>\n",
       "      <td>0</td>\n",
       "      <td>3032</td>\n",
       "      <td>(-0.0059188581071794, 0.0228217169642448)</td>\n",
       "      <td>X Vector Component</td>\n",
       "    </tr>\n",
       "    <tr>\n",
       "      <th>pose.orientation.y</th>\n",
       "      <td>&lt;class 'numpy.float64'&gt;</td>\n",
       "      <td>0</td>\n",
       "      <td>3032</td>\n",
       "      <td>(-0.0257593318819999, 0.0142646925523877)</td>\n",
       "      <td>Y Vector Component</td>\n",
       "    </tr>\n",
       "    <tr>\n",
       "      <th>pose.orientation.z</th>\n",
       "      <td>&lt;class 'numpy.float64'&gt;</td>\n",
       "      <td>0</td>\n",
       "      <td>3032</td>\n",
       "      <td>(-0.1681881099939346, 0.0233441442251205)</td>\n",
       "      <td>Z Vector Component</td>\n",
       "    </tr>\n",
       "    <tr>\n",
       "      <th>pose.orientation.w</th>\n",
       "      <td>&lt;class 'numpy.float64'&gt;</td>\n",
       "      <td>0</td>\n",
       "      <td>2226</td>\n",
       "      <td>(-0.9999764561653136, -0.9855958819389344)</td>\n",
       "      <td>Cosine of 1/2 Rotation angle</td>\n",
       "    </tr>\n",
       "  </tbody>\n",
       "</table>\n",
       "</div>"
      ],
      "text/plain": [
       "                                       Type  Missing_val_count  Unique_Values   \n",
       "Column                                                                          \n",
       "Time                <class 'numpy.float64'>                  0           3032  \\\n",
       "header.seq            <class 'numpy.int64'>                  0           3032   \n",
       "header.stamp.secs     <class 'numpy.int64'>                  0             33   \n",
       "header.stamp.nsecs    <class 'numpy.int64'>                  0           3031   \n",
       "header.frame_id               <class 'str'>                  0              1   \n",
       "pose.position.x     <class 'numpy.float64'>                  0           3024   \n",
       "pose.position.y     <class 'numpy.float64'>                  0           2998   \n",
       "pose.position.z     <class 'numpy.float64'>                  0           3031   \n",
       "pose.orientation.x  <class 'numpy.float64'>                  0           3032   \n",
       "pose.orientation.y  <class 'numpy.float64'>                  0           3032   \n",
       "pose.orientation.z  <class 'numpy.float64'>                  0           3032   \n",
       "pose.orientation.w  <class 'numpy.float64'>                  0           2226   \n",
       "\n",
       "                                                         Range   \n",
       "Column                                                           \n",
       "Time                   (1690899086.439581, 1690899118.0395534)  \\\n",
       "header.seq                                      (16978, 20144)   \n",
       "header.stamp.secs                     (1690899086, 1690899118)   \n",
       "header.stamp.nsecs                        (9456458, 999614419)   \n",
       "header.frame_id                                 (world, world)   \n",
       "pose.position.x         (3.31677794456482, 3.6165285110473633)   \n",
       "pose.position.y          (3.654858112335205, 3.77560043334961)   \n",
       "pose.position.z        (0.2850619852542877, 3.134616613388061)   \n",
       "pose.orientation.x   (-0.0059188581071794, 0.0228217169642448)   \n",
       "pose.orientation.y   (-0.0257593318819999, 0.0142646925523877)   \n",
       "pose.orientation.z   (-0.1681881099939346, 0.0233441442251205)   \n",
       "pose.orientation.w  (-0.9999764561653136, -0.9855958819389344)   \n",
       "\n",
       "                                           Units  \n",
       "Column                                            \n",
       "Time                                     Seconds  \n",
       "header.seq                                 Count  \n",
       "header.stamp.secs                        Seconds  \n",
       "header.stamp.nsecs                   Nonoseconds  \n",
       "header.frame_id         Name of Coordinate Frame  \n",
       "pose.position.x                           meters  \n",
       "pose.position.y                           meters  \n",
       "pose.position.z                           meters  \n",
       "pose.orientation.x            X Vector Component  \n",
       "pose.orientation.y            Y Vector Component  \n",
       "pose.orientation.z            Z Vector Component  \n",
       "pose.orientation.w  Cosine of 1/2 Rotation angle  "
      ]
     },
     "execution_count": 6,
     "metadata": {},
     "output_type": "execute_result"
    }
   ],
   "source": [
    "list = []\n",
    "for i in traj_df.columns:\n",
    "    list.append([i, type(traj_df[i][0]), np.sum(traj_df[i].isnull()), len(np.unique(traj_df[i])), f\"({min(traj_df[i])}, {max(traj_df[i])})\"])\n",
    "\n",
    "info_df = pd.DataFrame(list, columns=[\"Column\", \"Type\", \"Missing_val_count\", \"Unique_Values\", \"Range\"]).set_index(\"Column\")\n",
    "info_df[\"Units\"] = [\"Seconds\", \"Count\", \"Seconds\", \"Nonoseconds\", \"Name of Coordinate Frame\", \"meters\", \"meters\", \"meters\", \"X Vector Component\", \"Y Vector Component\",\"Z Vector Component\", \"Cosine of 1/2 Rotation angle\"]\n",
    "info_df"
   ]
  },
  {
   "cell_type": "markdown",
   "id": "eb415470-0d36-4015-aa47-2fe82bd7e074",
   "metadata": {},
   "source": [
    "## Data and Trajectory Plot"
   ]
  },
  {
   "cell_type": "code",
   "execution_count": null,
   "id": "eb37f6a6-e17c-4c3e-9a98-ffd3a2ff2695",
   "metadata": {},
   "outputs": [],
   "source": [
    "traj_df = traj_df.sort_values('Time')\n",
    "\n",
    "# Create the figure\n",
    "fig = go.Figure()\n",
    "\n",
    "# Add scatter points\n",
    "fig.add_trace(go.Scatter3d(\n",
    "    x=traj_df['pose.position.x'],\n",
    "    y=traj_df['pose.position.y'],\n",
    "    z=traj_df['pose.position.z'],\n",
    "    mode='markers+lines',  # Connect points in time order\n",
    "    marker=dict(size=1, color=traj_df['Time'].astype(int), colorscale='Viridis'),\n",
    "    line=dict(color='red', width=1),\n",
    "    name='LiDAR Path'\n",
    "))\n",
    "fig.update_layout(\n",
    "    scene=dict(\n",
    "        aspectratio=dict(x=0.5, y=0.5, z=2)\n",
    "    )\n",
    ")\n",
    "\n",
    "fig.show()"
   ]
  },
  {
   "cell_type": "markdown",
   "id": "1c37252c-ee85-427e-a6a0-a8a82466225a",
   "metadata": {},
   "source": [
    "Explanation: We can see that the drone flies up and then down, staying in a similar location for x and y, which explains why our x and y ranges were so small. The Z axis is the one that changes the most in this data. This may make this not the best dataset to use, since our X and y stay relatively constant. However, the rest of the data is identical in structure so if we can figure this data out we can apply the knowledge and code to the others. "
   ]
  },
  {
   "cell_type": "markdown",
   "id": "d8a5a3b2-8d47-4326-9db3-0817e0b38d2f",
   "metadata": {},
   "source": [
    "### Visualize Trajectories: "
   ]
  },
  {
   "cell_type": "code",
   "execution_count": 76,
   "id": "1144ef5c-fee9-4260-ab8b-22216d2cf092",
   "metadata": {},
   "outputs": [
    {
     "data": {
      "image/png": "[encoded data removed]",
      "text/plain": [
       "<Figure size 640x480 with 1 Axes>"
      ]
     },
     "metadata": {},
     "output_type": "display_data"
    }
   ],
   "source": [
    "plt.scatter(x=traj_df['pose.position.x'], y=traj_df['pose.position.z'], s = 1)\n",
    "plt.xlim(2.5, 4)\n",
    "plt.ylim(0, 4)\n",
    "plt.xlabel(\"pose.position.x\")\n",
    "plt.ylabel(\"pose.position.z\")\n",
    "plt.title(\"Trajectory Plot: x vs z\")\n",
    "plt.show()"
   ]
  },
  {
   "cell_type": "code",
   "execution_count": 77,
   "id": "bdb40eb8-5932-459c-bd9a-caf8207e779a",
   "metadata": {},
   "outputs": [
    {
     "data": {
      "image/png": "[encoded data removed]",
      "text/plain": [
       "<Figure size 640x480 with 1 Axes>"
      ]
     },
     "metadata": {},
     "output_type": "display_data"
    }
   ],
   "source": [
    "plt.scatter(x=traj_df['pose.position.y'], y=traj_df['pose.position.z'], s = 1)\n",
    "plt.xlim(2.5, 4)\n",
    "plt.ylim(0, 4)\n",
    "plt.xlabel(\"pose.position.y\")\n",
    "plt.ylabel(\"pose.position.z\")\n",
    "plt.title(\"Trajectory Plot: y vs z\")\n",
    "plt.show()"
   ]
  },
  {
   "cell_type": "markdown",
   "id": "034f70fc-dedc-4c68-a44f-da8118051525",
   "metadata": {},
   "source": [
    "# This is the end of the Trajectory analysis, now we will move on to feature sets, which is found in the file Data_Explore.ipynb"
   ]
  },
  {
   "cell_type": "markdown",
   "id": "42cd6930-40a3-43ba-bbf5-f02eecd685e7",
   "metadata": {},
   "source": [
    "### Proposed feature set/labels: "
   ]
  },
  {
   "cell_type": "markdown",
   "id": "1dec70cf-ffe3-4c32-ad8d-ce7f3baee2b8",
   "metadata": {},
   "source": [
    "continuous = ['x', 'y', 'z', 'pose.position.x', 'pose.position.y',\n",
    "       'pose.position.z', 'pose.orientation.x', 'pose.orientation.y',\n",
    "       'pose.orientation.z', 'pose.orientation.w']\n",
    "discrete = ['reflectivity', 'tag', 'line', 'point_num', 'lidar_id', 'Time']\n",
    "\n",
    "response = [\n",
    "    'angular_velocity.x', 'angular_velocity.y', 'angular_velocity.z',\n",
    "    'linear_acceleration.x', 'linear_acceleration.y', 'linear_acceleration.z'\n",
    "]\n",
    "\n",
    "\n"
   ]
  },
  {
   "cell_type": "code",
   "execution_count": null,
   "id": "14e55d2c-d271-4f74-99d6-f667717d64f0",
   "metadata": {},
   "outputs": [],
   "source": []
  }
 ],
 "metadata": {
  "kernelspec": {
   "display_name": "Python 3 (ipykernel)",
   "language": "python",
   "name": "python3"
  },
  "language_info": {
   "codemirror_mode": {
    "name": "ipython",
    "version": 3
   },
   "file_extension": ".py",
   "mimetype": "text/x-python",
   "name": "python",
   "nbconvert_exporter": "python",
   "pygments_lexer": "ipython3",
   "version": "3.10.11"
  }
 },
 "nbformat": 4,
 "nbformat_minor": 5
}
